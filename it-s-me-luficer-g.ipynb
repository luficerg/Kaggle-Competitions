{
 "cells": [
  {
   "cell_type": "markdown",
   "id": "6da85841",
   "metadata": {
    "papermill": {
     "duration": 0.008863,
     "end_time": "2024-01-01T14:13:13.599045",
     "exception": false,
     "start_time": "2024-01-01T14:13:13.590182",
     "status": "completed"
    },
    "tags": []
   },
   "source": [
    "# 📋Table of Contents\n",
    "* INtroduction\n",
    "* 📚 Import Libraries\n",
    "* 📖 Read Dataset\n",
    "* 😅😅Missing Values\n",
    "* 🖇🖇📭Data Pipeline\n",
    "* ⚙️Finding and Training Models With Best Hyperparameters\n",
    "* 👀👁FInal MOdel WIth VOting\n",
    "* 📊Generate Predictions and Create Submission File"
   ]
  },
  {
   "cell_type": "markdown",
   "id": "dd1fc62b",
   "metadata": {
    "papermill": {
     "duration": 0.008551,
     "end_time": "2024-01-01T14:13:13.616989",
     "exception": false,
     "start_time": "2024-01-01T14:13:13.608438",
     "status": "completed"
    },
    "tags": []
   },
   "source": [
    "# INtroduction"
   ]
  },
  {
   "cell_type": "markdown",
   "id": "e9b4c6ee",
   "metadata": {
    "papermill": {
     "duration": 0.008024,
     "end_time": "2024-01-01T14:13:13.633359",
     "exception": false,
     "start_time": "2024-01-01T14:13:13.625335",
     "status": "completed"
    },
    "tags": []
   },
   "source": [
    "**Hi , you clicked this notebook, so without any wasting time, let's get started, but some context, this is multiclass prediction model, which has predict the probabilities of the classes of the columns, and submit them into csv file. Hope you will play with it , plz don't forget mention this notebook , if you 're building the model on the top of this notebook**"
   ]
  },
  {
   "cell_type": "markdown",
   "id": "cf3a09ab",
   "metadata": {
    "papermill": {
     "duration": 0.007969,
     "end_time": "2024-01-01T14:13:13.649734",
     "exception": false,
     "start_time": "2024-01-01T14:13:13.641765",
     "status": "completed"
    },
    "tags": []
   },
   "source": [
    "# 📚Import Libraries "
   ]
  },
  {
   "cell_type": "code",
   "execution_count": 1,
   "id": "34c33e1f",
   "metadata": {
    "_cell_guid": "b1076dfc-b9ad-4769-8c92-a6c4dae69d19",
    "_uuid": "8f2839f25d086af736a60e9eeb907d3b93b6e0e5",
    "execution": {
     "iopub.execute_input": "2024-01-01T14:13:13.668523Z",
     "iopub.status.busy": "2024-01-01T14:13:13.668037Z",
     "iopub.status.idle": "2024-01-01T14:13:20.114882Z",
     "shell.execute_reply": "2024-01-01T14:13:20.113630Z"
    },
    "papermill": {
     "duration": 6.460008,
     "end_time": "2024-01-01T14:13:20.117980",
     "exception": false,
     "start_time": "2024-01-01T14:13:13.657972",
     "status": "completed"
    },
    "tags": []
   },
   "outputs": [],
   "source": [
    "import numpy as np # linear algebra\n",
    "import pandas as pd # data processing, CSV file I/O (e.g. pd.read_csv)\n",
    "import warnings\n",
    "import optuna\n",
    "import seaborn as sns\n",
    "import matplotlib.pyplot as plt\n",
    "from sklearn.pipeline import Pipeline\n",
    "from sklearn.impute import SimpleImputer\n",
    "from sklearn.preprocessing import StandardScaler, OneHotEncoder\n",
    "from sklearn.compose import ColumnTransformer\n",
    "from sklearn.ensemble import RandomForestClassifier\n",
    "from sklearn.model_selection import train_test_split\n",
    "from sklearn.ensemble import GradientBoostingClassifier\n",
    "from lightgbm import LGBMClassifier\n",
    "from catboost import CatBoostClassifier\n",
    "from xgboost import XGBClassifier\n",
    "from sklearn.model_selection import train_test_split\n",
    "from sklearn.metrics import confusion_matrix\n",
    "from sklearn.preprocessing import LabelEncoder\n",
    "from sklearn.metrics import log_loss, make_scorer\n",
    "from sklearn.ensemble import VotingClassifier\n",
    "\n",
    "\n",
    "warnings.filterwarnings(\"ignore\")\n"
   ]
  },
  {
   "cell_type": "markdown",
   "id": "bd06afdf",
   "metadata": {
    "papermill": {
     "duration": 0.008253,
     "end_time": "2024-01-01T14:13:20.135111",
     "exception": false,
     "start_time": "2024-01-01T14:13:20.126858",
     "status": "completed"
    },
    "tags": []
   },
   "source": [
    "# 📖Read Dataset"
   ]
  },
  {
   "cell_type": "code",
   "execution_count": 2,
   "id": "df7c981d",
   "metadata": {
    "execution": {
     "iopub.execute_input": "2024-01-01T14:13:20.157578Z",
     "iopub.status.busy": "2024-01-01T14:13:20.156372Z",
     "iopub.status.idle": "2024-01-01T14:13:20.259988Z",
     "shell.execute_reply": "2024-01-01T14:13:20.258829Z"
    },
    "papermill": {
     "duration": 0.117126,
     "end_time": "2024-01-01T14:13:20.262788",
     "exception": false,
     "start_time": "2024-01-01T14:13:20.145662",
     "status": "completed"
    },
    "tags": []
   },
   "outputs": [],
   "source": [
    "train = pd.read_csv('data/train.csv')\n",
    "main = pd.read_csv('data/cirrhosis.csv')\n",
    "test = pd.read_csv('data/test.csv')"
   ]
  },
  {
   "cell_type": "code",
   "execution_count": 3,
   "id": "4482a154",
   "metadata": {
    "execution": {
     "iopub.execute_input": "2024-01-01T14:13:20.284464Z",
     "iopub.status.busy": "2024-01-01T14:13:20.283712Z",
     "iopub.status.idle": "2024-01-01T14:13:20.310621Z",
     "shell.execute_reply": "2024-01-01T14:13:20.309287Z"
    },
    "papermill": {
     "duration": 0.041032,
     "end_time": "2024-01-01T14:13:20.313317",
     "exception": false,
     "start_time": "2024-01-01T14:13:20.272285",
     "status": "completed"
    },
    "tags": []
   },
   "outputs": [
    {
     "name": "stdout",
     "output_type": "stream",
     "text": [
      "(418, 20) (7905, 20)\n"
     ]
    }
   ],
   "source": [
    "main.rename(columns ={'ID':'id'}, inplace = True)\n",
    "print(main.shape, train.shape)\n",
    "train = pd.concat([train, main], axis = 0)"
   ]
  },
  {
   "cell_type": "code",
   "execution_count": 4,
   "id": "190eca50",
   "metadata": {
    "execution": {
     "iopub.execute_input": "2024-01-01T14:13:20.333716Z",
     "iopub.status.busy": "2024-01-01T14:13:20.333246Z",
     "iopub.status.idle": "2024-01-01T14:13:20.406333Z",
     "shell.execute_reply": "2024-01-01T14:13:20.404913Z"
    },
    "papermill": {
     "duration": 0.087186,
     "end_time": "2024-01-01T14:13:20.409392",
     "exception": false,
     "start_time": "2024-01-01T14:13:20.322206",
     "status": "completed"
    },
    "tags": []
   },
   "outputs": [
    {
     "data": {
      "text/html": [
       "<div>\n",
       "<style scoped>\n",
       "    .dataframe tbody tr th:only-of-type {\n",
       "        vertical-align: middle;\n",
       "    }\n",
       "\n",
       "    .dataframe tbody tr th {\n",
       "        vertical-align: top;\n",
       "    }\n",
       "\n",
       "    .dataframe thead th {\n",
       "        text-align: right;\n",
       "    }\n",
       "</style>\n",
       "<table border=\"1\" class=\"dataframe\">\n",
       "  <thead>\n",
       "    <tr style=\"text-align: right;\">\n",
       "      <th></th>\n",
       "      <th>count</th>\n",
       "      <th>mean</th>\n",
       "      <th>std</th>\n",
       "      <th>min</th>\n",
       "      <th>25%</th>\n",
       "      <th>50%</th>\n",
       "      <th>75%</th>\n",
       "      <th>max</th>\n",
       "    </tr>\n",
       "  </thead>\n",
       "  <tbody>\n",
       "    <tr>\n",
       "      <th>id</th>\n",
       "      <td>8323.0</td>\n",
       "      <td>3764.043133</td>\n",
       "      <td>2369.682885</td>\n",
       "      <td>0.00</td>\n",
       "      <td>1662.50</td>\n",
       "      <td>3743.00</td>\n",
       "      <td>5823.50</td>\n",
       "      <td>7904.00</td>\n",
       "    </tr>\n",
       "    <tr>\n",
       "      <th>N_Days</th>\n",
       "      <td>8323.0</td>\n",
       "      <td>2024.528776</td>\n",
       "      <td>1094.968696</td>\n",
       "      <td>41.00</td>\n",
       "      <td>1220.00</td>\n",
       "      <td>1831.00</td>\n",
       "      <td>2689.00</td>\n",
       "      <td>4795.00</td>\n",
       "    </tr>\n",
       "    <tr>\n",
       "      <th>Age</th>\n",
       "      <td>8323.0</td>\n",
       "      <td>18381.192359</td>\n",
       "      <td>3686.832308</td>\n",
       "      <td>9598.00</td>\n",
       "      <td>15574.00</td>\n",
       "      <td>18713.00</td>\n",
       "      <td>20684.00</td>\n",
       "      <td>28650.00</td>\n",
       "    </tr>\n",
       "    <tr>\n",
       "      <th>Bilirubin</th>\n",
       "      <td>8323.0</td>\n",
       "      <td>2.625940</td>\n",
       "      <td>3.847146</td>\n",
       "      <td>0.30</td>\n",
       "      <td>0.70</td>\n",
       "      <td>1.10</td>\n",
       "      <td>3.00</td>\n",
       "      <td>28.00</td>\n",
       "    </tr>\n",
       "    <tr>\n",
       "      <th>Cholesterol</th>\n",
       "      <td>8189.0</td>\n",
       "      <td>351.219074</td>\n",
       "      <td>196.775246</td>\n",
       "      <td>120.00</td>\n",
       "      <td>248.00</td>\n",
       "      <td>299.00</td>\n",
       "      <td>392.00</td>\n",
       "      <td>1775.00</td>\n",
       "    </tr>\n",
       "    <tr>\n",
       "      <th>Albumin</th>\n",
       "      <td>8323.0</td>\n",
       "      <td>3.545767</td>\n",
       "      <td>0.350697</td>\n",
       "      <td>1.96</td>\n",
       "      <td>3.35</td>\n",
       "      <td>3.58</td>\n",
       "      <td>3.77</td>\n",
       "      <td>4.64</td>\n",
       "    </tr>\n",
       "    <tr>\n",
       "      <th>Copper</th>\n",
       "      <td>8215.0</td>\n",
       "      <td>84.421546</td>\n",
       "      <td>76.327480</td>\n",
       "      <td>4.00</td>\n",
       "      <td>39.00</td>\n",
       "      <td>63.00</td>\n",
       "      <td>102.00</td>\n",
       "      <td>588.00</td>\n",
       "    </tr>\n",
       "    <tr>\n",
       "      <th>Alk_Phos</th>\n",
       "      <td>8217.0</td>\n",
       "      <td>1823.044883</td>\n",
       "      <td>1913.388685</td>\n",
       "      <td>289.00</td>\n",
       "      <td>834.00</td>\n",
       "      <td>1181.00</td>\n",
       "      <td>1857.00</td>\n",
       "      <td>13862.40</td>\n",
       "    </tr>\n",
       "    <tr>\n",
       "      <th>SGOT</th>\n",
       "      <td>8217.0</td>\n",
       "      <td>114.906530</td>\n",
       "      <td>49.134067</td>\n",
       "      <td>26.35</td>\n",
       "      <td>75.95</td>\n",
       "      <td>108.50</td>\n",
       "      <td>137.95</td>\n",
       "      <td>457.25</td>\n",
       "    </tr>\n",
       "    <tr>\n",
       "      <th>Tryglicerides</th>\n",
       "      <td>8187.0</td>\n",
       "      <td>115.662636</td>\n",
       "      <td>53.037660</td>\n",
       "      <td>33.00</td>\n",
       "      <td>84.00</td>\n",
       "      <td>104.00</td>\n",
       "      <td>139.00</td>\n",
       "      <td>598.00</td>\n",
       "    </tr>\n",
       "    <tr>\n",
       "      <th>Platelets</th>\n",
       "      <td>8312.0</td>\n",
       "      <td>264.827238</td>\n",
       "      <td>88.039809</td>\n",
       "      <td>62.00</td>\n",
       "      <td>210.00</td>\n",
       "      <td>264.00</td>\n",
       "      <td>316.00</td>\n",
       "      <td>721.00</td>\n",
       "    </tr>\n",
       "    <tr>\n",
       "      <th>Prothrombin</th>\n",
       "      <td>8321.0</td>\n",
       "      <td>10.634575</td>\n",
       "      <td>0.795707</td>\n",
       "      <td>9.00</td>\n",
       "      <td>10.00</td>\n",
       "      <td>10.60</td>\n",
       "      <td>11.00</td>\n",
       "      <td>18.00</td>\n",
       "    </tr>\n",
       "    <tr>\n",
       "      <th>Stage</th>\n",
       "      <td>8317.0</td>\n",
       "      <td>3.032103</td>\n",
       "      <td>0.867235</td>\n",
       "      <td>1.00</td>\n",
       "      <td>2.00</td>\n",
       "      <td>3.00</td>\n",
       "      <td>4.00</td>\n",
       "      <td>4.00</td>\n",
       "    </tr>\n",
       "  </tbody>\n",
       "</table>\n",
       "</div>"
      ],
      "text/plain": [
       "                count          mean          std      min       25%       50%  \\\n",
       "id             8323.0   3764.043133  2369.682885     0.00   1662.50   3743.00   \n",
       "N_Days         8323.0   2024.528776  1094.968696    41.00   1220.00   1831.00   \n",
       "Age            8323.0  18381.192359  3686.832308  9598.00  15574.00  18713.00   \n",
       "Bilirubin      8323.0      2.625940     3.847146     0.30      0.70      1.10   \n",
       "Cholesterol    8189.0    351.219074   196.775246   120.00    248.00    299.00   \n",
       "Albumin        8323.0      3.545767     0.350697     1.96      3.35      3.58   \n",
       "Copper         8215.0     84.421546    76.327480     4.00     39.00     63.00   \n",
       "Alk_Phos       8217.0   1823.044883  1913.388685   289.00    834.00   1181.00   \n",
       "SGOT           8217.0    114.906530    49.134067    26.35     75.95    108.50   \n",
       "Tryglicerides  8187.0    115.662636    53.037660    33.00     84.00    104.00   \n",
       "Platelets      8312.0    264.827238    88.039809    62.00    210.00    264.00   \n",
       "Prothrombin    8321.0     10.634575     0.795707     9.00     10.00     10.60   \n",
       "Stage          8317.0      3.032103     0.867235     1.00      2.00      3.00   \n",
       "\n",
       "                    75%       max  \n",
       "id              5823.50   7904.00  \n",
       "N_Days          2689.00   4795.00  \n",
       "Age            20684.00  28650.00  \n",
       "Bilirubin          3.00     28.00  \n",
       "Cholesterol      392.00   1775.00  \n",
       "Albumin            3.77      4.64  \n",
       "Copper           102.00    588.00  \n",
       "Alk_Phos        1857.00  13862.40  \n",
       "SGOT             137.95    457.25  \n",
       "Tryglicerides    139.00    598.00  \n",
       "Platelets        316.00    721.00  \n",
       "Prothrombin       11.00     18.00  \n",
       "Stage              4.00      4.00  "
      ]
     },
     "execution_count": 4,
     "metadata": {},
     "output_type": "execute_result"
    }
   ],
   "source": [
    "train.describe().T"
   ]
  },
  {
   "cell_type": "markdown",
   "id": "59538558",
   "metadata": {
    "papermill": {
     "duration": 0.009198,
     "end_time": "2024-01-01T14:13:20.428043",
     "exception": false,
     "start_time": "2024-01-01T14:13:20.418845",
     "status": "completed"
    },
    "tags": []
   },
   "source": [
    "# 😅😅Missing Values"
   ]
  },
  {
   "cell_type": "code",
   "execution_count": 5,
   "id": "b304dd89",
   "metadata": {
    "execution": {
     "iopub.execute_input": "2024-01-01T14:13:20.450073Z",
     "iopub.status.busy": "2024-01-01T14:13:20.449590Z",
     "iopub.status.idle": "2024-01-01T14:13:20.474342Z",
     "shell.execute_reply": "2024-01-01T14:13:20.473378Z"
    },
    "papermill": {
     "duration": 0.038761,
     "end_time": "2024-01-01T14:13:20.476905",
     "exception": false,
     "start_time": "2024-01-01T14:13:20.438144",
     "status": "completed"
    },
    "tags": []
   },
   "outputs": [
    {
     "name": "stdout",
     "output_type": "stream",
     "text": [
      "id                 0\n",
      "N_Days             0\n",
      "Drug             106\n",
      "Age                0\n",
      "Sex                0\n",
      "Ascites          106\n",
      "Hepatomegaly     106\n",
      "Spiders          106\n",
      "Edema              0\n",
      "Bilirubin          0\n",
      "Cholesterol      134\n",
      "Albumin            0\n",
      "Copper           108\n",
      "Alk_Phos         106\n",
      "SGOT             106\n",
      "Tryglicerides    136\n",
      "Platelets         11\n",
      "Prothrombin        2\n",
      "Stage              6\n",
      "Status             0\n",
      "dtype: int64\n"
     ]
    },
    {
     "data": {
      "text/plain": [
       "id               0\n",
       "N_Days           0\n",
       "Drug             0\n",
       "Age              0\n",
       "Sex              0\n",
       "Ascites          0\n",
       "Hepatomegaly     0\n",
       "Spiders          0\n",
       "Edema            0\n",
       "Bilirubin        0\n",
       "Cholesterol      0\n",
       "Albumin          0\n",
       "Copper           0\n",
       "Alk_Phos         0\n",
       "SGOT             0\n",
       "Tryglicerides    0\n",
       "Platelets        0\n",
       "Prothrombin      0\n",
       "Stage            0\n",
       "dtype: int64"
      ]
     },
     "execution_count": 5,
     "metadata": {},
     "output_type": "execute_result"
    }
   ],
   "source": [
    "print(train.isnull().sum())\n",
    "test.isnull().sum()"
   ]
  },
  {
   "cell_type": "markdown",
   "id": "b40ccd1e",
   "metadata": {
    "papermill": {
     "duration": 0.010477,
     "end_time": "2024-01-01T14:13:20.497070",
     "exception": false,
     "start_time": "2024-01-01T14:13:20.486593",
     "status": "completed"
    },
    "tags": []
   },
   "source": [
    "**Wow that's miracle there's no missing values yipee!!**"
   ]
  },
  {
   "cell_type": "code",
   "execution_count": 6,
   "id": "4d55647a",
   "metadata": {
    "execution": {
     "iopub.execute_input": "2024-01-01T14:13:20.519359Z",
     "iopub.status.busy": "2024-01-01T14:13:20.518159Z",
     "iopub.status.idle": "2024-01-01T14:13:20.531931Z",
     "shell.execute_reply": "2024-01-01T14:13:20.530626Z"
    },
    "papermill": {
     "duration": 0.027793,
     "end_time": "2024-01-01T14:13:20.534774",
     "exception": false,
     "start_time": "2024-01-01T14:13:20.506981",
     "status": "completed"
    },
    "tags": []
   },
   "outputs": [],
   "source": [
    "# One-hot encode the target variable\n",
    "\n",
    "y = train['Status']\n",
    "label_encoder = LabelEncoder()\n",
    "y = label_encoder.fit_transform(y)\n",
    "\n",
    "X = train.drop(['id', 'Status'], axis=1)\n",
    "test = test.drop(['id'], axis=1)"
   ]
  },
  {
   "cell_type": "code",
   "execution_count": 7,
   "id": "3085e24f",
   "metadata": {
    "execution": {
     "iopub.execute_input": "2024-01-01T14:13:20.557134Z",
     "iopub.status.busy": "2024-01-01T14:13:20.556684Z",
     "iopub.status.idle": "2024-01-01T14:13:20.566481Z",
     "shell.execute_reply": "2024-01-01T14:13:20.565067Z"
    },
    "papermill": {
     "duration": 0.024638,
     "end_time": "2024-01-01T14:13:20.569206",
     "exception": false,
     "start_time": "2024-01-01T14:13:20.544568",
     "status": "completed"
    },
    "tags": []
   },
   "outputs": [],
   "source": [
    "num = X.select_dtypes(include=['int64', 'float64']).columns\n",
    "col = X.select_dtypes(include=['object']).columns"
   ]
  },
  {
   "cell_type": "markdown",
   "id": "fa5a9f34",
   "metadata": {
    "papermill": {
     "duration": 0.009449,
     "end_time": "2024-01-01T14:13:20.588437",
     "exception": false,
     "start_time": "2024-01-01T14:13:20.578988",
     "status": "completed"
    },
    "tags": []
   },
   "source": [
    "# 🖇🖇📭Data Pipeline"
   ]
  },
  {
   "cell_type": "code",
   "execution_count": 8,
   "id": "b989b220",
   "metadata": {
    "execution": {
     "iopub.execute_input": "2024-01-01T14:13:20.611159Z",
     "iopub.status.busy": "2024-01-01T14:13:20.610689Z",
     "iopub.status.idle": "2024-01-01T14:13:20.619315Z",
     "shell.execute_reply": "2024-01-01T14:13:20.617861Z"
    },
    "papermill": {
     "duration": 0.023611,
     "end_time": "2024-01-01T14:13:20.622208",
     "exception": false,
     "start_time": "2024-01-01T14:13:20.598597",
     "status": "completed"
    },
    "tags": []
   },
   "outputs": [],
   "source": [
    "# Preprocessing for numerical data: imputation and scaling\n",
    "numerical_transformer = Pipeline(steps=[\n",
    "    ('imputer', SimpleImputer(strategy='median')),\n",
    "    ('scaler', StandardScaler())])\n",
    "\n",
    "# Preprocessing for categorical data: imputation and one-hot encoding\n",
    "categorical_transformer = Pipeline(steps=[\n",
    "    ('imputer', SimpleImputer(strategy='most_frequent')),\n",
    "    ('onehot', OneHotEncoder(handle_unknown='ignore'))])\n",
    "\n",
    "preprocessor = ColumnTransformer(\n",
    "    transformers=[\n",
    "        ('num', numerical_transformer, num),\n",
    "        ('cat', categorical_transformer, col)])"
   ]
  },
  {
   "cell_type": "code",
   "execution_count": 9,
   "id": "8a2ade6b",
   "metadata": {
    "execution": {
     "iopub.execute_input": "2024-01-01T14:13:20.643849Z",
     "iopub.status.busy": "2024-01-01T14:13:20.643443Z",
     "iopub.status.idle": "2024-01-01T14:13:20.654487Z",
     "shell.execute_reply": "2024-01-01T14:13:20.653086Z"
    },
    "papermill": {
     "duration": 0.025407,
     "end_time": "2024-01-01T14:13:20.657605",
     "exception": false,
     "start_time": "2024-01-01T14:13:20.632198",
     "status": "completed"
    },
    "tags": []
   },
   "outputs": [],
   "source": [
    "# Split data into training and test sets\n",
    "X_train, X_test, y_train, y_test = train_test_split(X, y, test_size=0.2, random_state=42)"
   ]
  },
  {
   "cell_type": "markdown",
   "id": "21fed67f",
   "metadata": {
    "papermill": {
     "duration": 0.010101,
     "end_time": "2024-01-01T14:13:20.677761",
     "exception": false,
     "start_time": "2024-01-01T14:13:20.667660",
     "status": "completed"
    },
    "tags": []
   },
   "source": [
    "# ⚙️Finding  and Training  Models With Best Hyperparameters"
   ]
  },
  {
   "cell_type": "code",
   "execution_count": 10,
   "id": "2e8dba82",
   "metadata": {
    "execution": {
     "iopub.execute_input": "2024-01-01T14:13:20.701384Z",
     "iopub.status.busy": "2024-01-01T14:13:20.700855Z",
     "iopub.status.idle": "2024-01-01T14:13:20.708098Z",
     "shell.execute_reply": "2024-01-01T14:13:20.706686Z"
    },
    "papermill": {
     "duration": 0.022071,
     "end_time": "2024-01-01T14:13:20.710782",
     "exception": false,
     "start_time": "2024-01-01T14:13:20.688711",
     "status": "completed"
    },
    "tags": []
   },
   "outputs": [],
   "source": [
    "#Best for XBG\n",
    "\n",
    "# Define the objective function for Optuna\n",
    "# def objective(trial):\n",
    "\n",
    "#     params = {\n",
    "#         'objective': 'multi:softprob',\n",
    "#         'max_depth': trial.suggest_int('max_depth', 3, 100),\n",
    "#         'learning_rate': trial.suggest_float('learning_rate', 0.01, 0.3),\n",
    "#         'n_estimators': trial.suggest_int('n_estimators', 50, 1000, step=10),\n",
    "#         'subsample': trial.suggest_float('subsample', 0.5, 1.0),\n",
    "#         'colsample_bytree': trial.suggest_float('colsample_bytree', 0.1, 1.0),\n",
    "#         'gamma': trial.suggest_float('gamma', 0, 1),\n",
    "#         'booster': trial.suggest_categorical('booster', ['gbtree', 'gblinear', 'dart']),\n",
    "\n",
    "#     }\n",
    "#     model = XGBClassifier(**params)\n",
    "    \n",
    "#     # Create the full pipeline with the preprocessor\n",
    "#     pipeline = Pipeline(steps=[('preprocessor', preprocessor), ('model', model)])\n",
    "\n",
    "#     # Train the model\n",
    "#     pipeline.fit(X_train, y_train)\n",
    "\n",
    "#     # Make predictions\n",
    "#     y_pred_proba = pipeline.predict_proba(X_test)\n",
    "\n",
    "#     # Calculate log loss\n",
    "#     loss = log_loss(y_test, y_pred_proba)\n",
    "#     return loss\n",
    "\n",
    "# # Perform hyperparameter optimization\n",
    "# study = optuna.create_study(direction='minimize')\n",
    "# study.optimize(objective, n_trials=1500)\n",
    "\n",
    "# # Print the best hyperparameters and corresponding accuracy\n",
    "# best_trial = study.best_trial\n",
    "# print(f\"Best Trial - Hyperparameters: {best_trial.params}\")\n",
    "# print(f\"Best Trial - Accuracy: {best_trial.value}\")\n",
    "\n",
    "# Best Trial - Hyperparameters: {'max_depth': 3, 'learning_rate': 0.06554750793955862, 'n_estimators': 700, 'subsample': 0.879561982113763, 'colsample_bytree': 0.6804124845660782, 'gamma': 0.8869652359644636}\n",
    "# Best Trial - Accuracy: 0.42398305168359196\n",
    "\n"
   ]
  },
  {
   "cell_type": "code",
   "execution_count": 11,
   "id": "8f5b4029",
   "metadata": {
    "execution": {
     "iopub.execute_input": "2024-01-01T14:13:20.733665Z",
     "iopub.status.busy": "2024-01-01T14:13:20.732474Z",
     "iopub.status.idle": "2024-01-01T14:13:20.739537Z",
     "shell.execute_reply": "2024-01-01T14:13:20.738304Z"
    },
    "papermill": {
     "duration": 0.02153,
     "end_time": "2024-01-01T14:13:20.742308",
     "exception": false,
     "start_time": "2024-01-01T14:13:20.720778",
     "status": "completed"
    },
    "tags": []
   },
   "outputs": [],
   "source": [
    "model = XGBClassifier(**{'max_depth': 29, 'learning_rate': 0.044754600706634465, 'n_estimators': 850, 'subsample': 0.6529370752777335, 'colsample_bytree': 0.17930720266844047, 'gamma': 0.8811229412407853, 'booster': 'gbtree'})\n",
    "\n",
    "XBG_pipeline = Pipeline(steps=[('preprocessor', preprocessor), ('model', model)])\n"
   ]
  },
  {
   "cell_type": "code",
   "execution_count": 12,
   "id": "cae16d89",
   "metadata": {
    "execution": {
     "iopub.execute_input": "2024-01-01T14:13:20.765516Z",
     "iopub.status.busy": "2024-01-01T14:13:20.765065Z",
     "iopub.status.idle": "2024-01-01T14:13:20.771686Z",
     "shell.execute_reply": "2024-01-01T14:13:20.770231Z"
    },
    "papermill": {
     "duration": 0.021395,
     "end_time": "2024-01-01T14:13:20.774233",
     "exception": false,
     "start_time": "2024-01-01T14:13:20.752838",
     "status": "completed"
    },
    "tags": []
   },
   "outputs": [],
   "source": [
    "# Best for LGBM\n",
    "# # Define the objective function for Optuna\n",
    "# def objective(trial):\n",
    "\n",
    "#     params = {\n",
    "#             'objective': 'multiclass',\n",
    "#             'metric': 'softmax',\n",
    "#             'boosting_type': 'gbdt',\n",
    "#             'num_leaves': trial.suggest_int('num_leaves', 2, 256),\n",
    "#             'learning_rate': trial.suggest_float('learning_rate', 0.01, 0.3),\n",
    "#             'n_estimators': trial.suggest_int('n_estimators', 100, 1000, step=100),\n",
    "#             'subsample': trial.suggest_float('subsample', 0.5, 1.0),\n",
    "#             'colsample_bytree': trial.suggest_float('colsample_bytree', 0.5, 1.0),\n",
    "#             'reg_alpha': trial.suggest_float('reg_alpha', 0, 1),\n",
    "#             'reg_lambda': trial.suggest_float('reg_lambda', 0, 1),\n",
    "#         }\n",
    "#     model = LGBMClassifier(**params)\n",
    "    \n",
    "#     # Create the full pipeline with the preprocessor\n",
    "#     pipeline = Pipeline(steps=[('preprocessor', preprocessor), ('model', model)])\n",
    "\n",
    "#     # Train the model\n",
    "#     pipeline.fit(X_train, y_train)\n",
    "\n",
    "#     # Make predictions\n",
    "#     y_pred_proba = pipeline.predict_proba(X_test)\n",
    "\n",
    "#     # Calculate log loss\n",
    "#     loss = log_loss(y_test, y_pred_proba)\n",
    "#     return loss\n",
    "\n",
    "# # Perform hyperparameter optimization\n",
    "# study = optuna.create_study(direction='minimize')\n",
    "# study.optimize(objective, n_trials=1500)\n",
    "\n",
    "# # Print the best hyperparameters and corresponding accuracy\n",
    "# best_trial = study.best_trial\n",
    "# print(f\"Best Trial - Hyperparameters: {best_trial.params}\")\n",
    "# print(f\"Best Trial - Accuracy: {best_trial.value}\")\n",
    "\n",
    "# Best Trial - Hyperparameters: {'num_leaves': 10, 'learning_rate': 0.09945716175211072, 'n_estimators': 100, 'subsample': 0.638372746835219, 'colsample_bytree': 0.7901846422576978, 'reg_alpha': 0.9399890733575376, 'reg_lambda': 0.39927135467931296}\n",
    "# Best Trial - Accuracy: 0.4320768674184984\n",
    "\n"
   ]
  },
  {
   "cell_type": "code",
   "execution_count": 13,
   "id": "0b80cb14",
   "metadata": {
    "execution": {
     "iopub.execute_input": "2024-01-01T14:13:20.797796Z",
     "iopub.status.busy": "2024-01-01T14:13:20.797369Z",
     "iopub.status.idle": "2024-01-01T14:13:20.803870Z",
     "shell.execute_reply": "2024-01-01T14:13:20.802700Z"
    },
    "papermill": {
     "duration": 0.021277,
     "end_time": "2024-01-01T14:13:20.806363",
     "exception": false,
     "start_time": "2024-01-01T14:13:20.785086",
     "status": "completed"
    },
    "tags": []
   },
   "outputs": [],
   "source": [
    "model = LGBMClassifier(**{'num_leaves': 13, 'learning_rate': 0.040717487378551125, 'n_estimators': 340, 'subsample': 0.7621117946415148, 'colsample_bytree': 0.5254951985706161, 'reg_alpha': 0.9395639914591739, 'reg_lambda': 0.12423847695048462})\n",
    "\n",
    "LGBM_pipeline = Pipeline(steps=[('preprocessor', preprocessor), ('model', model)])"
   ]
  },
  {
   "cell_type": "code",
   "execution_count": 14,
   "id": "d760ec46",
   "metadata": {
    "execution": {
     "iopub.execute_input": "2024-01-01T14:13:20.828808Z",
     "iopub.status.busy": "2024-01-01T14:13:20.828361Z",
     "iopub.status.idle": "2024-01-01T14:13:20.835593Z",
     "shell.execute_reply": "2024-01-01T14:13:20.834218Z"
    },
    "papermill": {
     "duration": 0.021761,
     "end_time": "2024-01-01T14:13:20.838225",
     "exception": false,
     "start_time": "2024-01-01T14:13:20.816464",
     "status": "completed"
    },
    "tags": []
   },
   "outputs": [],
   "source": [
    "# Best for CatboostClassifier\n",
    "# # Define the objective function for Optuna\n",
    "# def objective(trial):\n",
    "#     model_params = {\n",
    "#         'iterations': trial.suggest_int('iterations', 100, 1000, step=100),\n",
    "#         'learning_rate': trial.suggest_float('learning_rate', 0.01, 0.3),\n",
    "#         'depth': trial.suggest_int('depth', 3, 10),\n",
    "#         'subsample': trial.suggest_float('subsample', 0.5, 1.0),\n",
    "#         'colsample_bylevel': trial.suggest_float('colsample_bylevel', 0.5, 1.0),\n",
    "#         'bootstrap_type': 'Bayesian',\n",
    "#         'verbose': False\n",
    "#     }\n",
    "#     # Exclude 'subsample' when using 'bayesian' bootstrap type\n",
    "#     if model_params['bootstrap_type'] == 'Bayesian':\n",
    "#         del model_params['subsample']\n",
    "    \n",
    "#     model = CatBoostClassifier(**model_params)\n",
    "    \n",
    "#     # Create the full pipeline with the preprocessor\n",
    "#     pipeline = Pipeline(steps=[('preprocessor', preprocessor), ('model', model)])\n",
    "\n",
    "#     # Train the model\n",
    "#     pipeline.fit(X_train, y_train)\n",
    "\n",
    "#     # Make predictions\n",
    "#     y_pred_proba = pipeline.predict_proba(X_test)\n",
    "\n",
    "#     # Calculate log loss\n",
    "#     loss = log_loss(y_test, y_pred_proba)\n",
    "#     return loss\n",
    "\n",
    "# # Perform hyperparameter optimization\n",
    "# study = optuna.create_study(direction='minimize')\n",
    "# study.optimize(objective, n_trials=150)\n",
    "\n",
    "# # Print the best hyperparameters and corresponding accuracy\n",
    "# best_trial = study.best_trial\n",
    "# print(f\"Best Trial - Hyperparameters: {best_trial.params}\")\n",
    "# print(f\"Best Trial - Loss: {best_trial.value}\")\n",
    "\n",
    "# Best Trial - Hyperparameters: {'iterations': 500, 'learning_rate': 0.1872180770901252, 'depth': 3, 'subsample': 0.9148112150472516, 'colsample_bylevel': 0.5012028440449813}\n",
    "# Best Trial - Loss: 0.4332958910610937"
   ]
  },
  {
   "cell_type": "code",
   "execution_count": 15,
   "id": "2fb73f1c",
   "metadata": {
    "execution": {
     "iopub.execute_input": "2024-01-01T14:13:20.860809Z",
     "iopub.status.busy": "2024-01-01T14:13:20.860385Z",
     "iopub.status.idle": "2024-01-01T14:13:20.870788Z",
     "shell.execute_reply": "2024-01-01T14:13:20.869555Z"
    },
    "papermill": {
     "duration": 0.024889,
     "end_time": "2024-01-01T14:13:20.873329",
     "exception": false,
     "start_time": "2024-01-01T14:13:20.848440",
     "status": "completed"
    },
    "tags": []
   },
   "outputs": [],
   "source": [
    "model = CatBoostClassifier(**{'iterations': 860, 'learning_rate': 0.07693815312911455, 'depth': 3, 'subsample': 0.5592260503739381, \n",
    "                               'colsample_bylevel': 0.6756953610569407, 'bootstrap_type': 'Bernoulli', 'grow_policy': 'Depthwise',\n",
    "                               'min_child_samples': 17, 'reg_lambda': 0.39267373457724253})\n",
    "\n",
    "Cat_pipeline = Pipeline(steps=[('preprocessor', preprocessor), ('model', model)])"
   ]
  },
  {
   "cell_type": "code",
   "execution_count": 16,
   "id": "2991ad39",
   "metadata": {
    "execution": {
     "iopub.execute_input": "2024-01-01T14:13:20.896719Z",
     "iopub.status.busy": "2024-01-01T14:13:20.896312Z",
     "iopub.status.idle": "2024-01-01T14:13:20.902911Z",
     "shell.execute_reply": "2024-01-01T14:13:20.901465Z"
    },
    "papermill": {
     "duration": 0.022494,
     "end_time": "2024-01-01T14:13:20.906138",
     "exception": false,
     "start_time": "2024-01-01T14:13:20.883644",
     "status": "completed"
    },
    "tags": []
   },
   "outputs": [],
   "source": [
    "# Best for GradientBoosting\n",
    "    \n",
    "# # Define the objective function for Optuna\n",
    "# def objective(trial):\n",
    "\n",
    "#     params = {\n",
    "#             'loss': 'deviance',\n",
    "#             'learning_rate': trial.suggest_float('learning_rate', 0.01, 0.3),\n",
    "#             'n_estimators': trial.suggest_int('n_estimators', 100, 1000, step=100),\n",
    "#             'subsample': trial.suggest_float('subsample', 0.5, 1.0),\n",
    "#             'max_depth': trial.suggest_int('max_depth', 3, 10),\n",
    "#         }\n",
    "    \n",
    "#     model = GradientBoostingClassifier(**params)\n",
    "    \n",
    "#     # Create the full pipeline with the preprocessor\n",
    "#     pipeline = Pipeline(steps=[('preprocessor', preprocessor), ('model', model)])\n",
    "\n",
    "#     # Train the model\n",
    "#     pipeline.fit(X_train, y_train)\n",
    "\n",
    "#     # Make predictions\n",
    "#     y_pred_proba = pipeline.predict_proba(X_test)\n",
    "\n",
    "#     # Calculate log loss\n",
    "#     loss = log_loss(y_test, y_pred_proba)\n",
    "#     return loss\n",
    "\n",
    "# # Perform hyperparameter optimization\n",
    "# study = optuna.create_study(direction='minimize')\n",
    "# study.optimize(objective, n_trials=1500)\n",
    "\n",
    "# # Print the best hyperparameters and corresponding accuracy\n",
    "# best_trial = study.best_trial\n",
    "\n",
    "# print(f\"Best Trial - Hyperparameters: {best_trial.params}\")\n",
    "# print(f\"Best Trial - Accuracy: {best_trial.value}\")\n",
    "# # Best Trial - Hyperparameters: {'learning_rate': 0.05885877940951943, 'n_estimators': 300, 'subsample': 0.5470272507158589, 'max_depth': 3}\n",
    "# Best Trial - Accuracy: 0.42324580434605336\n",
    "\n"
   ]
  },
  {
   "cell_type": "code",
   "execution_count": 17,
   "id": "006683d6",
   "metadata": {
    "execution": {
     "iopub.execute_input": "2024-01-01T14:13:20.929711Z",
     "iopub.status.busy": "2024-01-01T14:13:20.929288Z",
     "iopub.status.idle": "2024-01-01T14:13:20.935844Z",
     "shell.execute_reply": "2024-01-01T14:13:20.934245Z"
    },
    "papermill": {
     "duration": 0.021442,
     "end_time": "2024-01-01T14:13:20.938294",
     "exception": false,
     "start_time": "2024-01-01T14:13:20.916852",
     "status": "completed"
    },
    "tags": []
   },
   "outputs": [],
   "source": [
    "model = GradientBoostingClassifier(**{'learning_rate': 0.05885877940951943, 'n_estimators': 300, 'subsample': 0.5470272507158589, 'max_depth': 3})\n",
    "\n",
    "Gradient_pipeline = Pipeline(steps=[('preprocessor', preprocessor), ('model', model)])\n"
   ]
  },
  {
   "cell_type": "markdown",
   "id": "62a6aceb",
   "metadata": {
    "papermill": {
     "duration": 0.010095,
     "end_time": "2024-01-01T14:13:20.959784",
     "exception": false,
     "start_time": "2024-01-01T14:13:20.949689",
     "status": "completed"
    },
    "tags": []
   },
   "source": [
    "# 👀👁FInal MOdel WIth VOting"
   ]
  },
  {
   "cell_type": "code",
   "execution_count": 18,
   "id": "00c9fc71",
   "metadata": {
    "execution": {
     "iopub.execute_input": "2024-01-01T14:13:20.982992Z",
     "iopub.status.busy": "2024-01-01T14:13:20.982534Z",
     "iopub.status.idle": "2024-01-01T14:13:24.354596Z",
     "shell.execute_reply": "2024-01-01T14:13:24.353214Z"
    },
    "papermill": {
     "duration": 3.387484,
     "end_time": "2024-01-01T14:13:24.357616",
     "exception": false,
     "start_time": "2024-01-01T14:13:20.970132",
     "status": "completed"
    },
    "tags": []
   },
   "outputs": [
    {
     "data": {
      "text/html": [
       "<style>#sk-container-id-1 {color: black;background-color: white;}#sk-container-id-1 pre{padding: 0;}#sk-container-id-1 div.sk-toggleable {background-color: white;}#sk-container-id-1 label.sk-toggleable__label {cursor: pointer;display: block;width: 100%;margin-bottom: 0;padding: 0.3em;box-sizing: border-box;text-align: center;}#sk-container-id-1 label.sk-toggleable__label-arrow:before {content: \"▸\";float: left;margin-right: 0.25em;color: #696969;}#sk-container-id-1 label.sk-toggleable__label-arrow:hover:before {color: black;}#sk-container-id-1 div.sk-estimator:hover label.sk-toggleable__label-arrow:before {color: black;}#sk-container-id-1 div.sk-toggleable__content {max-height: 0;max-width: 0;overflow: hidden;text-align: left;background-color: #f0f8ff;}#sk-container-id-1 div.sk-toggleable__content pre {margin: 0.2em;color: black;border-radius: 0.25em;background-color: #f0f8ff;}#sk-container-id-1 input.sk-toggleable__control:checked~div.sk-toggleable__content {max-height: 200px;max-width: 100%;overflow: auto;}#sk-container-id-1 input.sk-toggleable__control:checked~label.sk-toggleable__label-arrow:before {content: \"▾\";}#sk-container-id-1 div.sk-estimator input.sk-toggleable__control:checked~label.sk-toggleable__label {background-color: #d4ebff;}#sk-container-id-1 div.sk-label input.sk-toggleable__control:checked~label.sk-toggleable__label {background-color: #d4ebff;}#sk-container-id-1 input.sk-hidden--visually {border: 0;clip: rect(1px 1px 1px 1px);clip: rect(1px, 1px, 1px, 1px);height: 1px;margin: -1px;overflow: hidden;padding: 0;position: absolute;width: 1px;}#sk-container-id-1 div.sk-estimator {font-family: monospace;background-color: #f0f8ff;border: 1px dotted black;border-radius: 0.25em;box-sizing: border-box;margin-bottom: 0.5em;}#sk-container-id-1 div.sk-estimator:hover {background-color: #d4ebff;}#sk-container-id-1 div.sk-parallel-item::after {content: \"\";width: 100%;border-bottom: 1px solid gray;flex-grow: 1;}#sk-container-id-1 div.sk-label:hover label.sk-toggleable__label {background-color: #d4ebff;}#sk-container-id-1 div.sk-serial::before {content: \"\";position: absolute;border-left: 1px solid gray;box-sizing: border-box;top: 0;bottom: 0;left: 50%;z-index: 0;}#sk-container-id-1 div.sk-serial {display: flex;flex-direction: column;align-items: center;background-color: white;padding-right: 0.2em;padding-left: 0.2em;position: relative;}#sk-container-id-1 div.sk-item {position: relative;z-index: 1;}#sk-container-id-1 div.sk-parallel {display: flex;align-items: stretch;justify-content: center;background-color: white;position: relative;}#sk-container-id-1 div.sk-item::before, #sk-container-id-1 div.sk-parallel-item::before {content: \"\";position: absolute;border-left: 1px solid gray;box-sizing: border-box;top: 0;bottom: 0;left: 50%;z-index: -1;}#sk-container-id-1 div.sk-parallel-item {display: flex;flex-direction: column;z-index: 1;position: relative;background-color: white;}#sk-container-id-1 div.sk-parallel-item:first-child::after {align-self: flex-end;width: 50%;}#sk-container-id-1 div.sk-parallel-item:last-child::after {align-self: flex-start;width: 50%;}#sk-container-id-1 div.sk-parallel-item:only-child::after {width: 0;}#sk-container-id-1 div.sk-dashed-wrapped {border: 1px dashed gray;margin: 0 0.4em 0.5em 0.4em;box-sizing: border-box;padding-bottom: 0.4em;background-color: white;}#sk-container-id-1 div.sk-label label {font-family: monospace;font-weight: bold;display: inline-block;line-height: 1.2em;}#sk-container-id-1 div.sk-label-container {text-align: center;}#sk-container-id-1 div.sk-container {/* jupyter's `normalize.less` sets `[hidden] { display: none; }` but bootstrap.min.css set `[hidden] { display: none !important; }` so we also need the `!important` here to be able to override the default hidden behavior on the sphinx rendered scikit-learn.org. See: https://github.com/scikit-learn/scikit-learn/issues/21755 */display: inline-block !important;position: relative;}#sk-container-id-1 div.sk-text-repr-fallback {display: none;}</style><div id=\"sk-container-id-1\" class=\"sk-top-container\"><div class=\"sk-text-repr-fallback\"><pre>Pipeline(steps=[(&#x27;preprocessor&#x27;,\n",
       "                 ColumnTransformer(transformers=[(&#x27;num&#x27;,\n",
       "                                                  Pipeline(steps=[(&#x27;imputer&#x27;,\n",
       "                                                                   SimpleImputer(strategy=&#x27;median&#x27;)),\n",
       "                                                                  (&#x27;scaler&#x27;,\n",
       "                                                                   StandardScaler())]),\n",
       "                                                  Index([&#x27;N_Days&#x27;, &#x27;Age&#x27;, &#x27;Bilirubin&#x27;, &#x27;Cholesterol&#x27;, &#x27;Albumin&#x27;, &#x27;Copper&#x27;,\n",
       "       &#x27;Alk_Phos&#x27;, &#x27;SGOT&#x27;, &#x27;Tryglicerides&#x27;, &#x27;Platelets&#x27;, &#x27;Prothrombin&#x27;,\n",
       "       &#x27;Stage&#x27;],\n",
       "      dtype=&#x27;object&#x27;)),\n",
       "                                                 (&#x27;cat&#x27;,\n",
       "                                                  Pipeline(steps=[(&#x27;imputer&#x27;,\n",
       "                                                                   S...\n",
       "                               grow_policy=None, importance_type=None,\n",
       "                               interaction_constraints=None,\n",
       "                               learning_rate=0.044754600706634465, max_bin=None,\n",
       "                               max_cat_threshold=None, max_cat_to_onehot=None,\n",
       "                               max_delta_step=None, max_depth=29,\n",
       "                               max_leaves=None, min_child_weight=None,\n",
       "                               missing=nan, monotone_constraints=None,\n",
       "                               multi_strategy=None, n_estimators=850,\n",
       "                               n_jobs=None, num_parallel_tree=None,\n",
       "                               objective=&#x27;multi:softprob&#x27;, ...))])</pre><b>In a Jupyter environment, please rerun this cell to show the HTML representation or trust the notebook. <br />On GitHub, the HTML representation is unable to render, please try loading this page with nbviewer.org.</b></div><div class=\"sk-container\" hidden><div class=\"sk-item sk-dashed-wrapped\"><div class=\"sk-label-container\"><div class=\"sk-label sk-toggleable\"><input class=\"sk-toggleable__control sk-hidden--visually\" id=\"sk-estimator-id-1\" type=\"checkbox\" ><label for=\"sk-estimator-id-1\" class=\"sk-toggleable__label sk-toggleable__label-arrow\">Pipeline</label><div class=\"sk-toggleable__content\"><pre>Pipeline(steps=[(&#x27;preprocessor&#x27;,\n",
       "                 ColumnTransformer(transformers=[(&#x27;num&#x27;,\n",
       "                                                  Pipeline(steps=[(&#x27;imputer&#x27;,\n",
       "                                                                   SimpleImputer(strategy=&#x27;median&#x27;)),\n",
       "                                                                  (&#x27;scaler&#x27;,\n",
       "                                                                   StandardScaler())]),\n",
       "                                                  Index([&#x27;N_Days&#x27;, &#x27;Age&#x27;, &#x27;Bilirubin&#x27;, &#x27;Cholesterol&#x27;, &#x27;Albumin&#x27;, &#x27;Copper&#x27;,\n",
       "       &#x27;Alk_Phos&#x27;, &#x27;SGOT&#x27;, &#x27;Tryglicerides&#x27;, &#x27;Platelets&#x27;, &#x27;Prothrombin&#x27;,\n",
       "       &#x27;Stage&#x27;],\n",
       "      dtype=&#x27;object&#x27;)),\n",
       "                                                 (&#x27;cat&#x27;,\n",
       "                                                  Pipeline(steps=[(&#x27;imputer&#x27;,\n",
       "                                                                   S...\n",
       "                               grow_policy=None, importance_type=None,\n",
       "                               interaction_constraints=None,\n",
       "                               learning_rate=0.044754600706634465, max_bin=None,\n",
       "                               max_cat_threshold=None, max_cat_to_onehot=None,\n",
       "                               max_delta_step=None, max_depth=29,\n",
       "                               max_leaves=None, min_child_weight=None,\n",
       "                               missing=nan, monotone_constraints=None,\n",
       "                               multi_strategy=None, n_estimators=850,\n",
       "                               n_jobs=None, num_parallel_tree=None,\n",
       "                               objective=&#x27;multi:softprob&#x27;, ...))])</pre></div></div></div><div class=\"sk-serial\"><div class=\"sk-item sk-dashed-wrapped\"><div class=\"sk-label-container\"><div class=\"sk-label sk-toggleable\"><input class=\"sk-toggleable__control sk-hidden--visually\" id=\"sk-estimator-id-2\" type=\"checkbox\" ><label for=\"sk-estimator-id-2\" class=\"sk-toggleable__label sk-toggleable__label-arrow\">preprocessor: ColumnTransformer</label><div class=\"sk-toggleable__content\"><pre>ColumnTransformer(transformers=[(&#x27;num&#x27;,\n",
       "                                 Pipeline(steps=[(&#x27;imputer&#x27;,\n",
       "                                                  SimpleImputer(strategy=&#x27;median&#x27;)),\n",
       "                                                 (&#x27;scaler&#x27;, StandardScaler())]),\n",
       "                                 Index([&#x27;N_Days&#x27;, &#x27;Age&#x27;, &#x27;Bilirubin&#x27;, &#x27;Cholesterol&#x27;, &#x27;Albumin&#x27;, &#x27;Copper&#x27;,\n",
       "       &#x27;Alk_Phos&#x27;, &#x27;SGOT&#x27;, &#x27;Tryglicerides&#x27;, &#x27;Platelets&#x27;, &#x27;Prothrombin&#x27;,\n",
       "       &#x27;Stage&#x27;],\n",
       "      dtype=&#x27;object&#x27;)),\n",
       "                                (&#x27;cat&#x27;,\n",
       "                                 Pipeline(steps=[(&#x27;imputer&#x27;,\n",
       "                                                  SimpleImputer(strategy=&#x27;most_frequent&#x27;)),\n",
       "                                                 (&#x27;onehot&#x27;,\n",
       "                                                  OneHotEncoder(handle_unknown=&#x27;ignore&#x27;))]),\n",
       "                                 Index([&#x27;Drug&#x27;, &#x27;Sex&#x27;, &#x27;Ascites&#x27;, &#x27;Hepatomegaly&#x27;, &#x27;Spiders&#x27;, &#x27;Edema&#x27;], dtype=&#x27;object&#x27;))])</pre></div></div></div><div class=\"sk-parallel\"><div class=\"sk-parallel-item\"><div class=\"sk-item\"><div class=\"sk-label-container\"><div class=\"sk-label sk-toggleable\"><input class=\"sk-toggleable__control sk-hidden--visually\" id=\"sk-estimator-id-3\" type=\"checkbox\" ><label for=\"sk-estimator-id-3\" class=\"sk-toggleable__label sk-toggleable__label-arrow\">num</label><div class=\"sk-toggleable__content\"><pre>Index([&#x27;N_Days&#x27;, &#x27;Age&#x27;, &#x27;Bilirubin&#x27;, &#x27;Cholesterol&#x27;, &#x27;Albumin&#x27;, &#x27;Copper&#x27;,\n",
       "       &#x27;Alk_Phos&#x27;, &#x27;SGOT&#x27;, &#x27;Tryglicerides&#x27;, &#x27;Platelets&#x27;, &#x27;Prothrombin&#x27;,\n",
       "       &#x27;Stage&#x27;],\n",
       "      dtype=&#x27;object&#x27;)</pre></div></div></div><div class=\"sk-serial\"><div class=\"sk-item\"><div class=\"sk-serial\"><div class=\"sk-item\"><div class=\"sk-estimator sk-toggleable\"><input class=\"sk-toggleable__control sk-hidden--visually\" id=\"sk-estimator-id-4\" type=\"checkbox\" ><label for=\"sk-estimator-id-4\" class=\"sk-toggleable__label sk-toggleable__label-arrow\">SimpleImputer</label><div class=\"sk-toggleable__content\"><pre>SimpleImputer(strategy=&#x27;median&#x27;)</pre></div></div></div><div class=\"sk-item\"><div class=\"sk-estimator sk-toggleable\"><input class=\"sk-toggleable__control sk-hidden--visually\" id=\"sk-estimator-id-5\" type=\"checkbox\" ><label for=\"sk-estimator-id-5\" class=\"sk-toggleable__label sk-toggleable__label-arrow\">StandardScaler</label><div class=\"sk-toggleable__content\"><pre>StandardScaler()</pre></div></div></div></div></div></div></div></div><div class=\"sk-parallel-item\"><div class=\"sk-item\"><div class=\"sk-label-container\"><div class=\"sk-label sk-toggleable\"><input class=\"sk-toggleable__control sk-hidden--visually\" id=\"sk-estimator-id-6\" type=\"checkbox\" ><label for=\"sk-estimator-id-6\" class=\"sk-toggleable__label sk-toggleable__label-arrow\">cat</label><div class=\"sk-toggleable__content\"><pre>Index([&#x27;Drug&#x27;, &#x27;Sex&#x27;, &#x27;Ascites&#x27;, &#x27;Hepatomegaly&#x27;, &#x27;Spiders&#x27;, &#x27;Edema&#x27;], dtype=&#x27;object&#x27;)</pre></div></div></div><div class=\"sk-serial\"><div class=\"sk-item\"><div class=\"sk-serial\"><div class=\"sk-item\"><div class=\"sk-estimator sk-toggleable\"><input class=\"sk-toggleable__control sk-hidden--visually\" id=\"sk-estimator-id-7\" type=\"checkbox\" ><label for=\"sk-estimator-id-7\" class=\"sk-toggleable__label sk-toggleable__label-arrow\">SimpleImputer</label><div class=\"sk-toggleable__content\"><pre>SimpleImputer(strategy=&#x27;most_frequent&#x27;)</pre></div></div></div><div class=\"sk-item\"><div class=\"sk-estimator sk-toggleable\"><input class=\"sk-toggleable__control sk-hidden--visually\" id=\"sk-estimator-id-8\" type=\"checkbox\" ><label for=\"sk-estimator-id-8\" class=\"sk-toggleable__label sk-toggleable__label-arrow\">OneHotEncoder</label><div class=\"sk-toggleable__content\"><pre>OneHotEncoder(handle_unknown=&#x27;ignore&#x27;)</pre></div></div></div></div></div></div></div></div></div></div><div class=\"sk-item\"><div class=\"sk-estimator sk-toggleable\"><input class=\"sk-toggleable__control sk-hidden--visually\" id=\"sk-estimator-id-9\" type=\"checkbox\" ><label for=\"sk-estimator-id-9\" class=\"sk-toggleable__label sk-toggleable__label-arrow\">XGBClassifier</label><div class=\"sk-toggleable__content\"><pre>XGBClassifier(base_score=None, booster=&#x27;gbtree&#x27;, callbacks=None,\n",
       "              colsample_bylevel=None, colsample_bynode=None,\n",
       "              colsample_bytree=0.17930720266844047, device=None,\n",
       "              early_stopping_rounds=None, enable_categorical=False,\n",
       "              eval_metric=None, feature_types=None, gamma=0.8811229412407853,\n",
       "              grow_policy=None, importance_type=None,\n",
       "              interaction_constraints=None, learning_rate=0.044754600706634465,\n",
       "              max_bin=None, max_cat_threshold=None, max_cat_to_onehot=None,\n",
       "              max_delta_step=None, max_depth=29, max_leaves=None,\n",
       "              min_child_weight=None, missing=nan, monotone_constraints=None,\n",
       "              multi_strategy=None, n_estimators=850, n_jobs=None,\n",
       "              num_parallel_tree=None, objective=&#x27;multi:softprob&#x27;, ...)</pre></div></div></div></div></div></div></div>"
      ],
      "text/plain": [
       "Pipeline(steps=[('preprocessor',\n",
       "                 ColumnTransformer(transformers=[('num',\n",
       "                                                  Pipeline(steps=[('imputer',\n",
       "                                                                   SimpleImputer(strategy='median')),\n",
       "                                                                  ('scaler',\n",
       "                                                                   StandardScaler())]),\n",
       "                                                  Index(['N_Days', 'Age', 'Bilirubin', 'Cholesterol', 'Albumin', 'Copper',\n",
       "       'Alk_Phos', 'SGOT', 'Tryglicerides', 'Platelets', 'Prothrombin',\n",
       "       'Stage'],\n",
       "      dtype='object')),\n",
       "                                                 ('cat',\n",
       "                                                  Pipeline(steps=[('imputer',\n",
       "                                                                   S...\n",
       "                               grow_policy=None, importance_type=None,\n",
       "                               interaction_constraints=None,\n",
       "                               learning_rate=0.044754600706634465, max_bin=None,\n",
       "                               max_cat_threshold=None, max_cat_to_onehot=None,\n",
       "                               max_delta_step=None, max_depth=29,\n",
       "                               max_leaves=None, min_child_weight=None,\n",
       "                               missing=nan, monotone_constraints=None,\n",
       "                               multi_strategy=None, n_estimators=850,\n",
       "                               n_jobs=None, num_parallel_tree=None,\n",
       "                               objective='multi:softprob', ...))])"
      ]
     },
     "execution_count": 18,
     "metadata": {},
     "output_type": "execute_result"
    }
   ],
   "source": [
    "# Create a VotingClassifier with the three XGBoost models\n",
    "voting = VotingClassifier(estimators=[\n",
    "    ('Model1', XBG_pipeline),\n",
    "    ('Model1', LGBM_pipeline),\n",
    "    ('Model1', Cat_pipeline),\n",
    "    ('Model2', Gradient_pipeline)\n",
    "], voting='soft')\n",
    "\n",
    "\n",
    "\n",
    "XBG_pipeline.fit(X, y)"
   ]
  },
  {
   "cell_type": "markdown",
   "id": "d5dc9a26",
   "metadata": {
    "papermill": {
     "duration": 0.011379,
     "end_time": "2024-01-01T14:13:24.380916",
     "exception": false,
     "start_time": "2024-01-01T14:13:24.369537",
     "status": "completed"
    },
    "tags": []
   },
   "source": [
    "# 📊Generate Predictions and Create Submission File"
   ]
  },
  {
   "cell_type": "code",
   "execution_count": 19,
   "id": "dad36949",
   "metadata": {
    "execution": {
     "iopub.execute_input": "2024-01-01T14:13:24.405421Z",
     "iopub.status.busy": "2024-01-01T14:13:24.404972Z",
     "iopub.status.idle": "2024-01-01T14:13:24.577059Z",
     "shell.execute_reply": "2024-01-01T14:13:24.575995Z"
    },
    "papermill": {
     "duration": 0.187401,
     "end_time": "2024-01-01T14:13:24.579736",
     "exception": false,
     "start_time": "2024-01-01T14:13:24.392335",
     "status": "completed"
    },
    "tags": []
   },
   "outputs": [],
   "source": [
    "# Using only XGBOOST to make predictions\n",
    "predict = XBG_pipeline.predict_proba(test)\n",
    "\n",
    "sub = pd.read_csv('data/sample_submission.csv')\n",
    "\n",
    "sub[['Status_C', 'Status_CL', 'Status_D']] = predict\n",
    "\n",
    "sub.to_csv('sample_submission.csv', index = False)"
   ]
  },
  {
   "cell_type": "code",
   "execution_count": 20,
   "id": "66fbb486",
   "metadata": {
    "execution": {
     "iopub.execute_input": "2024-01-01T14:13:24.604580Z",
     "iopub.status.busy": "2024-01-01T14:13:24.603588Z",
     "iopub.status.idle": "2024-01-01T14:13:24.615352Z",
     "shell.execute_reply": "2024-01-01T14:13:24.614448Z"
    },
    "papermill": {
     "duration": 0.026804,
     "end_time": "2024-01-01T14:13:24.617748",
     "exception": false,
     "start_time": "2024-01-01T14:13:24.590944",
     "status": "completed"
    },
    "tags": []
   },
   "outputs": [
    {
     "data": {
      "text/html": [
       "<div>\n",
       "<style scoped>\n",
       "    .dataframe tbody tr th:only-of-type {\n",
       "        vertical-align: middle;\n",
       "    }\n",
       "\n",
       "    .dataframe tbody tr th {\n",
       "        vertical-align: top;\n",
       "    }\n",
       "\n",
       "    .dataframe thead th {\n",
       "        text-align: right;\n",
       "    }\n",
       "</style>\n",
       "<table border=\"1\" class=\"dataframe\">\n",
       "  <thead>\n",
       "    <tr style=\"text-align: right;\">\n",
       "      <th></th>\n",
       "      <th>id</th>\n",
       "      <th>Status_C</th>\n",
       "      <th>Status_CL</th>\n",
       "      <th>Status_D</th>\n",
       "    </tr>\n",
       "  </thead>\n",
       "  <tbody>\n",
       "    <tr>\n",
       "      <th>0</th>\n",
       "      <td>7905</td>\n",
       "      <td>0.403516</td>\n",
       "      <td>0.021968</td>\n",
       "      <td>0.574516</td>\n",
       "    </tr>\n",
       "    <tr>\n",
       "      <th>1</th>\n",
       "      <td>7906</td>\n",
       "      <td>0.496996</td>\n",
       "      <td>0.195273</td>\n",
       "      <td>0.307731</td>\n",
       "    </tr>\n",
       "    <tr>\n",
       "      <th>2</th>\n",
       "      <td>7907</td>\n",
       "      <td>0.028526</td>\n",
       "      <td>0.012969</td>\n",
       "      <td>0.958505</td>\n",
       "    </tr>\n",
       "    <tr>\n",
       "      <th>3</th>\n",
       "      <td>7908</td>\n",
       "      <td>0.972763</td>\n",
       "      <td>0.003586</td>\n",
       "      <td>0.023650</td>\n",
       "    </tr>\n",
       "    <tr>\n",
       "      <th>4</th>\n",
       "      <td>7909</td>\n",
       "      <td>0.858055</td>\n",
       "      <td>0.062890</td>\n",
       "      <td>0.079055</td>\n",
       "    </tr>\n",
       "  </tbody>\n",
       "</table>\n",
       "</div>"
      ],
      "text/plain": [
       "     id  Status_C  Status_CL  Status_D\n",
       "0  7905  0.403516   0.021968  0.574516\n",
       "1  7906  0.496996   0.195273  0.307731\n",
       "2  7907  0.028526   0.012969  0.958505\n",
       "3  7908  0.972763   0.003586  0.023650\n",
       "4  7909  0.858055   0.062890  0.079055"
      ]
     },
     "execution_count": 20,
     "metadata": {},
     "output_type": "execute_result"
    }
   ],
   "source": [
    "sub.head()"
   ]
  }
 ],
 "metadata": {
  "kaggle": {
   "accelerator": "none",
   "dataSources": [
    {
     "databundleVersionId": 7000181,
     "sourceId": 60893,
     "sourceType": "competition"
    },
    {
     "datasetId": 3873965,
     "sourceId": 6724823,
     "sourceType": "datasetVersion"
    }
   ],
   "dockerImageVersionId": 30626,
   "isGpuEnabled": false,
   "isInternetEnabled": true,
   "language": "python",
   "sourceType": "notebook"
  },
  "kernelspec": {
   "display_name": "Python 3",
   "language": "python",
   "name": "python3"
  },
  "language_info": {
   "codemirror_mode": {
    "name": "ipython",
    "version": 3
   },
   "file_extension": ".py",
   "mimetype": "text/x-python",
   "name": "python",
   "nbconvert_exporter": "python",
   "pygments_lexer": "ipython3",
   "version": "3.10.11"
  },
  "papermill": {
   "default_parameters": {},
   "duration": 15.906307,
   "end_time": "2024-01-01T14:13:25.652380",
   "environment_variables": {},
   "exception": null,
   "input_path": "__notebook__.ipynb",
   "output_path": "__notebook__.ipynb",
   "parameters": {},
   "start_time": "2024-01-01T14:13:09.746073",
   "version": "2.4.0"
  }
 },
 "nbformat": 4,
 "nbformat_minor": 5
}
