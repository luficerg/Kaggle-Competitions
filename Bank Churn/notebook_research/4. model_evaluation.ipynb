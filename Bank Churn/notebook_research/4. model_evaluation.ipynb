{
 "cells": [
  {
   "cell_type": "code",
   "execution_count": null,
   "metadata": {},
   "outputs": [],
   "source": [
    "import os\n",
    "import pandas as pd\n",
    "from sklearn.metrics import accuracy_score, precision_score, recall_score, roc_auc_score, f1_score\n",
    "from urllib.parse import urlparse\n",
    "import mlflow\n",
    "import mlflow.sklearn\n",
    "import pickle\n",
    "import json\n",
    "from pathlib import Path"
   ]
  },
  {
   "cell_type": "code",
   "execution_count": null,
   "metadata": {},
   "outputs": [],
   "source": [
    "os.chdir(\"../\")"
   ]
  },
  {
   "cell_type": "markdown",
   "metadata": {},
   "source": []
  },
  {
   "cell_type": "code",
   "execution_count": null,
   "metadata": {},
   "outputs": [],
   "source": [
    "os.environ[\"MLFLOW_TRACKING_URI\"]=\"https://dagshub.com/luficerg/Kaggle-Competitions.mlflow\"\n",
    "os.environ[\"MLFLOW_TRACKING_USERNAME\"]=\"luficerg\"\n",
    "os.environ[\"MLFLOW_TRACKING_PASSWORD\"]=\"251c01a63af78636ff098c62735d662f759756ce\""
   ]
  },
  {
   "cell_type": "code",
   "execution_count": null,
   "metadata": {},
   "outputs": [],
   "source": [
    "class ModelEvaluation:\n",
    "    \"\"\"\n",
    "    Class for evaluating and logging metrics for machine learning models.\n",
    "    \"\"\"\n",
    "\n",
    "    def __init__(self):\n",
    "        \"\"\"\n",
    "        Initializes the ModelEvaluation class.\n",
    "        \"\"\"\n",
    "        pass\n",
    "    \n",
    "    def eval_metrics_classification(self, actual, pred):\n",
    "        \"\"\"\n",
    "        Computes classification metrics for the given predictions and ground truth labels.\n",
    "\n",
    "        Parameters:\n",
    "        - actual: True labels.\n",
    "        - pred: Predicted labels.\n",
    "\n",
    "        Returns:\n",
    "        - Tuple of classification metrics: accuracy, precision, recall, ROC AUC, F1 score.\n",
    "        \"\"\"\n",
    "        accuracy = accuracy_score(actual, pred)\n",
    "        precision = precision_score(actual, pred)\n",
    "        recall = recall_score(actual, pred)\n",
    "        roc_auc = roc_auc_score(actual, pred)\n",
    "        f1 = f1_score(actual, pred)\n",
    "        return accuracy, precision, recall, roc_auc, f1\n",
    "\n",
    "    def test_log_into_mlflow(self, test_x: pd.DataFrame, test_y: pd.DataFrame, model_name: str):\n",
    "        \"\"\"\n",
    "        Tests the specified model on test data and logs evaluation metrics into MLflow.\n",
    "\n",
    "        Parameters:\n",
    "        - test_x (pd.DataFrame): Test features.\n",
    "        - test_y (pd.DataFrame): True labels of the test data.\n",
    "        - model_name (str): Path to the trained model file.\n",
    "        \"\"\"\n",
    "        # Load the trained model from the file\n",
    "        with open(model_name, \"rb\") as f:\n",
    "            model = pickle.load(f)\n",
    "\n",
    "        # Initialize MLflow tracking\n",
    "        mlflow.set_registry_uri(\"MLFLOW_TRACKING_URI\")\n",
    "        tracking_url_type_store = urlparse(mlflow.get_tracking_uri()).scheme\n",
    "\n",
    "        with mlflow.start_run():\n",
    "            # Make predictions on test data\n",
    "            predicted_qualities = model.predict(test_x)\n",
    "\n",
    "            # Compute evaluation metrics\n",
    "            accuracy, precision, recall, roc_auc, f1 = self.eval_metrics_classification(test_y, predicted_qualities)\n",
    "\n",
    "            # Log metrics to MLflow\n",
    "            mlflow.log_metric(\"accuracy\", accuracy)\n",
    "            mlflow.log_metric(\"precision\", precision)\n",
    "            mlflow.log_metric(\"recall\", recall)\n",
    "            mlflow.log_metric(\"roc_auc\", roc_auc)\n",
    "            mlflow.log_metric(\"f1\", f1)\n",
    "\n",
    "            # Save metrics as a local JSON file\n",
    "            scores = {\"accuracy\": accuracy, \"precision\": precision, \"recall\": recall, \"roc_auc\": roc_auc, \"f1\": f1}\n",
    "            with open(\"artifacts//model_evaluation//metrics.json\", \"w\") as out_file:\n",
    "                json.dump(scores, out_file, indent=4)\n",
    "\n",
    "            # Log the trained model into MLflow\n",
    "            if tracking_url_type_store != \"file\":\n",
    "                # Register the model in the Model Registry if not using file store\n",
    "                mlflow.sklearn.log_model(model, \"model\", registered_model_name=\"Voting\")\n",
    "            else:\n",
    "                mlflow.sklearn.log_model(model, \"model\")"
   ]
  },
  {
   "cell_type": "code",
   "execution_count": null,
   "metadata": {},
   "outputs": [],
   "source": [
    "try:\n",
    "    test = pd.read_csv('artifacts/data_ingestion/test.csv')\n",
    "    model_name = 'artifacts/model_trainer/model.pkl'\n",
    "    X_test = test.drop('Exited', axis = 1)\n",
    "    y_test = test['Exited']\n",
    "\n",
    "    config = ModelEvaluation()\n",
    "    config.test_log_into_mlflow(X_test, y_test, model_name)\n",
    "\n",
    "except Exception as e:\n",
    "    raise e"
   ]
  },
  {
   "cell_type": "code",
   "execution_count": null,
   "metadata": {},
   "outputs": [],
   "source": []
  }
 ],
 "metadata": {
  "kernelspec": {
   "display_name": "mlproj",
   "language": "python",
   "name": "python3"
  },
  "language_info": {
   "codemirror_mode": {
    "name": "ipython",
    "version": 3
   },
   "file_extension": ".py",
   "mimetype": "text/x-python",
   "name": "python",
   "nbconvert_exporter": "python",
   "pygments_lexer": "ipython3",
   "version": "3.10.11"
  },
  "orig_nbformat": 4
 },
 "nbformat": 4,
 "nbformat_minor": 2
}
