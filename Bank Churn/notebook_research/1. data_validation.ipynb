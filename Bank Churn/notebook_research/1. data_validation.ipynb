{
 "cells": [
  {
   "cell_type": "code",
   "execution_count": null,
   "metadata": {},
   "outputs": [],
   "source": [
    "import os\n",
    "import yaml\n",
    "from ensure import ensure_annotations\n",
    "import pandas as pd"
   ]
  },
  {
   "cell_type": "code",
   "execution_count": null,
   "metadata": {},
   "outputs": [],
   "source": [
    "os.chdir(\"../\")"
   ]
  },
  {
   "cell_type": "code",
   "execution_count": null,
   "metadata": {},
   "outputs": [],
   "source": [
    "data = pd.read_csv(\"artifacts\\data_ingestion\\\\train.csv\")\n",
    "data.head()"
   ]
  },
  {
   "cell_type": "code",
   "execution_count": null,
   "metadata": {},
   "outputs": [],
   "source": [
    "data.info()"
   ]
  },
  {
   "cell_type": "markdown",
   "metadata": {},
   "source": [
    "*The following reasons for ensure_annotation is given in reason.ipynb*"
   ]
  },
  {
   "cell_type": "code",
   "execution_count": null,
   "metadata": {},
   "outputs": [],
   "source": [
    "class DataValidation:\n",
    "\n",
    "    \"\"\" \n",
    "    Example usage:\n",
    "    Assuming you have a DataFrame named 'data' and the path to the schema file is 'schema.yaml'\n",
    "    data_validation = DataValidation(data, 'schema.yaml')\n",
    "    data_validation.run_validation()\n",
    "    The following reasons for ensure_annotation is given in reason.ipynb\n",
    "    \"\"\"\n",
    "    \n",
    "    @ensure_annotations\n",
    "    def __init__(self, dataframe: pd.DataFrame, schema_path: str):\n",
    "        self.dataframe = dataframe\n",
    "        self.schema_path = schema_path\n",
    "        self.validation_status = False\n",
    "    \n",
    "    @ensure_annotations\n",
    "    def read_schema(self)-> dict:\n",
    "        \"\"\"\n",
    "        Args:\n",
    "            path_to_yaml (str): path like input\n",
    "\n",
    "        Raises:\n",
    "            ValueError: if yaml file is empty\n",
    "            e: empty file\n",
    "\n",
    "        Returns:\n",
    "            ConfigBox: ConfigBox type\n",
    "        \"\"\"\n",
    "        try:    \n",
    "            with open(self.schema_path) as schema_file:\n",
    "                schema = yaml.safe_load(schema_file)\n",
    "\n",
    "        except:\n",
    "            raise ValueError(\"Schema file is empty\")\n",
    "    \n",
    "        return schema\n",
    "        \n",
    "    @ensure_annotations\n",
    "    def validate_data(self)-> bool :\n",
    "        schema = self.read_schema()\n",
    "        columns = schema.keys()\n",
    "        # Check if all columns in schema are present in dataframe\n",
    "        if not set(columns).issubset(set(self.dataframe.columns)):\n",
    "            print(\"Validation Failed for columns, columns are not matching in dataframe\")\n",
    "            return False\n",
    "        \n",
    "        # Check data types\n",
    "        for column, dtype in schema.items():\n",
    "            if self.dataframe[column].dtype.name != dtype:\n",
    "                print(\"Validation Failed for columns, datatypes do not match\")\n",
    "                return False\n",
    "        \n",
    "        print(\"Validation Succedded for columns\")\n",
    "        return True\n",
    "    \n",
    "    def save_validation_status(self):\n",
    "        status_path = \"artifacts/data_validation/status.txt\"\n",
    "        with open(status_path, \"w\") as status_file:\n",
    "             status_file.write(\"Validation Status: \" + str(self.validation_status))\n",
    "    \n",
    "    def run_validation(self):\n",
    "        self.validation_status = self.validate_data()\n",
    "        self.save_validation_status()\n",
    "        \n",
    "\n"
   ]
  },
  {
   "cell_type": "code",
   "execution_count": null,
   "metadata": {},
   "outputs": [],
   "source": [
    "try:\n",
    "    data_validation = DataValidation(data, 'schema.yaml')\n",
    "    data_validation.run_validation()\n",
    "\n",
    "except Exception as e:\n",
    "    raise e"
   ]
  }
 ],
 "metadata": {
  "kernelspec": {
   "display_name": "mlproj",
   "language": "python",
   "name": "python3"
  },
  "language_info": {
   "codemirror_mode": {
    "name": "ipython",
    "version": 3
   },
   "file_extension": ".py",
   "mimetype": "text/x-python",
   "name": "python",
   "nbconvert_exporter": "python",
   "pygments_lexer": "ipython3",
   "version": "3.10.11"
  },
  "orig_nbformat": 4
 },
 "nbformat": 4,
 "nbformat_minor": 2
}
