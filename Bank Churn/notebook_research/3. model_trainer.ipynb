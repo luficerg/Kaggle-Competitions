{
 "cells": [
  {
   "cell_type": "code",
   "execution_count": 41,
   "metadata": {},
   "outputs": [],
   "source": [
    "import os\n",
    "os.chdir(\"../\")\n",
    "from src.components.data_transformation import DataTransformation\n",
    "from sklearn.model_selection import train_test_split\n",
    "from lightgbm import LGBMClassifier\n",
    "from catboost import CatBoostClassifier\n",
    "from xgboost import XGBClassifier\n",
    "from sklearn.ensemble import VotingClassifier\n",
    "from sklearn.metrics import accuracy_score\n",
    "from ensure import ensure_annotations\n",
    "from sklearn.pipeline import Pipeline\n",
    "import joblib\n",
    "import pandas as pd\n",
    "from sklearn.model_selection import train_test_split\n"
   ]
  },
  {
   "cell_type": "code",
   "execution_count": 57,
   "metadata": {},
   "outputs": [],
   "source": [
    "class ModelTrainer:\n",
    "\n",
    "    @ensure_annotations\n",
    "    def __init__(self, model : str):\n",
    "        self.model =  model\n",
    "\n",
    "    @ensure_annotations\n",
    "    def train(self, train: pd.DataFrame, test : bool):\n",
    "\n",
    "        trans = DataTransformation()\n",
    "\n",
    "        train = trans.drop_duplicate(train)\n",
    "        train  = trans.surname(train)\n",
    "\n",
    "        X = train.drop('Exited', axis=1)\n",
    "        y = train['Exited']\n",
    "\n",
    "        preprocessor = trans.sklearn_pipeline(X)\n",
    "\n",
    "        X_train, X_val, y_train, y_val = train_test_split(X, y, test_size=0.2, random_state=42)\n",
    "\n",
    "        # Define the models outside the condition blocks\n",
    "        best_model = XGBClassifier(**\n",
    "                                    {'n_estimators': 810, 'learning_rate': 0.07921079869615913,\n",
    "                                    'max_depth': 5, 'min_child_weight': 8, \n",
    "                                    'gamma': 0.27423983829634263, 'random_state': 42, \n",
    "                                    'objective': 'binary:logistic',\n",
    "                                    'eval_metric': 'auc', 'n_jobs': -1})\n",
    "            \n",
    "            \n",
    "        XGB_best = Pipeline(steps=[('preprocessor', preprocessor), ('model', best_model)])\n",
    "        \n",
    "        best_model = CatBoostClassifier(**\n",
    "                                        {'iterations': 830, 'learning_rate': 0.08238714339235984,\n",
    "                                        'depth': 5, 'l2_leaf_reg': 0.8106903985997884, \n",
    "                                        'random_state': 42, 'verbose': 0})\n",
    "            \n",
    "            \n",
    "        Cat_best = Pipeline(steps=[('preprocessor', preprocessor),\n",
    "                                       ('model', best_model)])\n",
    "        \n",
    "        # Train the final model with the best hyperparameters on the entire dataset\n",
    "        best_model = LGBMClassifier(**\n",
    "                                    {'n_estimators': 960, 'learning_rate': 0.031725771326186744,\n",
    "                                    'max_depth': 8, 'min_child_samples': 8, \n",
    "                                    'subsample': 0.7458307885861184, 'colsample_bytree': 0.5111460378911089,\n",
    "                                    'random_state': 42})\n",
    "        \n",
    "        LGBM_best = Pipeline(steps=[('preprocessor', preprocessor), ('model', best_model)])\n",
    "        \n",
    "        if self.model == \"Cat\":\n",
    "\n",
    "            Cat_best.fit(X_train, y_train)\n",
    "\n",
    "            predictions = Cat_best.predict(X_val)\n",
    "\n",
    "            acu = accuracy_score(y_val, predictions)\n",
    "            print(acu)\n",
    "                \n",
    "            return acu\n",
    "            \n",
    "\n",
    "        \n",
    "        elif self.model == \"XGB\":\n",
    "\n",
    "            XGB_best.fit(X_train, y_train)\n",
    "\n",
    "            predictions = XGB_best.predict(X_val)\n",
    "\n",
    "            acu = accuracy_score(y_val, predictions)\n",
    "            print(acu)\n",
    "                \n",
    "            return acu\n",
    "        \n",
    "        elif self.model == \"LGBM\":\n",
    "\n",
    "            LGBM_best.fit(X_train, y_train)\n",
    "\n",
    "            predictions = LGBM_best.predict(X_val)\n",
    "\n",
    "            acu = accuracy_score(y_val, predictions)\n",
    "            print(acu)\n",
    "                \n",
    "            return acu\n",
    "        \n",
    "        voting = VotingClassifier(estimators=[\n",
    "                ('Model1', LGBM_best),\n",
    "                ('Model2', XGB_best),\n",
    "                ('Model3', Cat_best)\n",
    "                ], voting='soft', weights = [0.5, 0.3, 0.2])\n",
    "        \n",
    "\n",
    "        voting.fit(X_train, y_train)\n",
    "\n",
    "        predictions = voting.predict(X_val)\n",
    "\n",
    "        acu = accuracy_score(y_val, predictions)\n",
    "            \n",
    "        print(acu)\n",
    "\n",
    "        return acu\n",
    "\n"
   ]
  },
  {
   "cell_type": "code",
   "execution_count": 61,
   "metadata": {},
   "outputs": [
    {
     "name": "stdout",
     "output_type": "stream",
     "text": [
      "[LightGBM] [Warning] Accuracy may be bad since you didn't explicitly set num_leaves OR 2^max_depth > num_leaves. (num_leaves=31).\n",
      "[LightGBM] [Warning] Accuracy may be bad since you didn't explicitly set num_leaves OR 2^max_depth > num_leaves. (num_leaves=31).\n",
      "[LightGBM] [Info] Number of positive: 29576, number of negative: 110451\n",
      "[LightGBM] [Info] Auto-choosing col-wise multi-threading, the overhead of testing was 0.020103 seconds.\n",
      "You can set `force_col_wise=true` to remove the overhead.\n",
      "[LightGBM] [Info] Total Bins 1117\n",
      "[LightGBM] [Info] Number of data points in the train set: 140027, number of used features: 14\n",
      "[LightGBM] [Info] [binary:BoostFromScore]: pavg=0.211216 -> initscore=-1.317609\n",
      "[LightGBM] [Info] Start training from score -1.317609\n",
      "[LightGBM] [Warning] Accuracy may be bad since you didn't explicitly set num_leaves OR 2^max_depth > num_leaves. (num_leaves=31).\n",
      "0.8676836061359157\n"
     ]
    },
    {
     "ename": "PermissionError",
     "evalue": "[Errno 13] Permission denied: 'artifacts//model_trainer'",
     "output_type": "error",
     "traceback": [
      "\u001b[1;31m---------------------------------------------------------------------------\u001b[0m",
      "\u001b[1;31mPermissionError\u001b[0m                           Traceback (most recent call last)",
      "Cell \u001b[1;32mIn[61], line 10\u001b[0m\n\u001b[0;32m      7\u001b[0m     joblib\u001b[38;5;241m.\u001b[39mdump(vote, \u001b[38;5;124m\"\u001b[39m\u001b[38;5;124martifacts//model_trainer\u001b[39m\u001b[38;5;124m\"\u001b[39m)\n\u001b[0;32m      9\u001b[0m \u001b[38;5;28;01mexcept\u001b[39;00m \u001b[38;5;167;01mException\u001b[39;00m \u001b[38;5;28;01mas\u001b[39;00m e:\n\u001b[1;32m---> 10\u001b[0m     \u001b[38;5;28;01mraise\u001b[39;00m e\n",
      "Cell \u001b[1;32mIn[61], line 7\u001b[0m\n\u001b[0;32m      5\u001b[0m     model_trainer \u001b[38;5;241m=\u001b[39m ModelTrainer(model \u001b[38;5;241m=\u001b[39m \u001b[38;5;124m\"\u001b[39m\u001b[38;5;124mvote\u001b[39m\u001b[38;5;124m\"\u001b[39m)\n\u001b[0;32m      6\u001b[0m     vote \u001b[38;5;241m=\u001b[39m model_trainer\u001b[38;5;241m.\u001b[39mtrain(train \u001b[38;5;241m=\u001b[39m train, test \u001b[38;5;241m=\u001b[39m \u001b[38;5;28;01mFalse\u001b[39;00m)\n\u001b[1;32m----> 7\u001b[0m     \u001b[43mjoblib\u001b[49m\u001b[38;5;241;43m.\u001b[39;49m\u001b[43mdump\u001b[49m\u001b[43m(\u001b[49m\u001b[43mvote\u001b[49m\u001b[43m,\u001b[49m\u001b[43m \u001b[49m\u001b[38;5;124;43m\"\u001b[39;49m\u001b[38;5;124;43martifacts//model_trainer\u001b[39;49m\u001b[38;5;124;43m\"\u001b[39;49m\u001b[43m)\u001b[49m\n\u001b[0;32m      9\u001b[0m \u001b[38;5;28;01mexcept\u001b[39;00m \u001b[38;5;167;01mException\u001b[39;00m \u001b[38;5;28;01mas\u001b[39;00m e:\n\u001b[0;32m     10\u001b[0m     \u001b[38;5;28;01mraise\u001b[39;00m e\n",
      "File \u001b[1;32mc:\\Users\\luficerg\\Documents\\git\\Kaggle-Competitions\\Bank Churn\\.venv\\lib\\site-packages\\joblib\\numpy_pickle.py:552\u001b[0m, in \u001b[0;36mdump\u001b[1;34m(value, filename, compress, protocol, cache_size)\u001b[0m\n\u001b[0;32m    550\u001b[0m         NumpyPickler(f, protocol\u001b[38;5;241m=\u001b[39mprotocol)\u001b[38;5;241m.\u001b[39mdump(value)\n\u001b[0;32m    551\u001b[0m \u001b[38;5;28;01melif\u001b[39;00m is_filename:\n\u001b[1;32m--> 552\u001b[0m     \u001b[38;5;28;01mwith\u001b[39;00m \u001b[38;5;28;43mopen\u001b[39;49m\u001b[43m(\u001b[49m\u001b[43mfilename\u001b[49m\u001b[43m,\u001b[49m\u001b[43m \u001b[49m\u001b[38;5;124;43m'\u001b[39;49m\u001b[38;5;124;43mwb\u001b[39;49m\u001b[38;5;124;43m'\u001b[39;49m\u001b[43m)\u001b[49m \u001b[38;5;28;01mas\u001b[39;00m f:\n\u001b[0;32m    553\u001b[0m         NumpyPickler(f, protocol\u001b[38;5;241m=\u001b[39mprotocol)\u001b[38;5;241m.\u001b[39mdump(value)\n\u001b[0;32m    554\u001b[0m \u001b[38;5;28;01melse\u001b[39;00m:\n",
      "\u001b[1;31mPermissionError\u001b[0m: [Errno 13] Permission denied: 'artifacts//model_trainer'"
     ]
    }
   ],
   "source": [
    "try:\n",
    "    train = pd.read_csv('artifacts\\data_ingestion\\\\train.csv')\n",
    "    test = pd.read_csv('artifacts\\data_ingestion\\\\test.csv')\n",
    "\n",
    "    model_trainer = ModelTrainer(model = \"vote\")\n",
    "    vote = model_trainer.train(train = train, test = False)\n",
    "    joblib.dump(vote, \"artifacts//model_trainer//model.joblib\")\n",
    "    \n",
    "except Exception as e:\n",
    "    raise e\n"
   ]
  },
  {
   "cell_type": "code",
   "execution_count": 62,
   "metadata": {},
   "outputs": [
    {
     "data": {
      "text/plain": [
       "['artifacts//model_trainer//model.joblib']"
      ]
     },
     "execution_count": 62,
     "metadata": {},
     "output_type": "execute_result"
    }
   ],
   "source": []
  },
  {
   "cell_type": "markdown",
   "metadata": {},
   "source": []
  }
 ],
 "metadata": {
  "kernelspec": {
   "display_name": "mlproj",
   "language": "python",
   "name": "python3"
  },
  "language_info": {
   "codemirror_mode": {
    "name": "ipython",
    "version": 3
   },
   "file_extension": ".py",
   "mimetype": "text/x-python",
   "name": "python",
   "nbconvert_exporter": "python",
   "pygments_lexer": "ipython3",
   "version": "3.10.11"
  },
  "orig_nbformat": 4
 },
 "nbformat": 4,
 "nbformat_minor": 2
}
